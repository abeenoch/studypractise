{
  "cells": [
    {
      "cell_type": "markdown",
      "metadata": {
        "id": "view-in-github",
        "colab_type": "text"
      },
      "source": [
        "<a href=\"https://colab.research.google.com/github/abeenoch/studypractise/blob/main/RNN_PLAY_GENERATOR.ipynb\" target=\"_parent\"><img src=\"https://colab.research.google.com/assets/colab-badge.svg\" alt=\"Open In Colab\"/></a>"
      ]
    },
    {
      "cell_type": "code",
      "execution_count": 1,
      "metadata": {
        "colab": {
          "base_uri": "https://localhost:8080/"
        },
        "id": "Ri5Fd7nZJuD1",
        "outputId": "d01ecd29-36ec-4895-be94-5fb53f19061b"
      },
      "outputs": [
        {
          "output_type": "stream",
          "name": "stdout",
          "text": [
            "Colab only includes TensorFlow 2.x; %tensorflow_version has no effect.\n"
          ]
        }
      ],
      "source": [
        "%tensorflow_version 2.x  # this line is not required unless you are in a notebook\n",
        "from keras.preprocessing import sequence\n",
        "import keras\n",
        "import tensorflow as tf\n",
        "import os\n",
        "import numpy as np"
      ]
    },
    {
      "cell_type": "code",
      "execution_count": 2,
      "metadata": {
        "id": "tIAw0Qx6K4ww",
        "outputId": "f757ab88-3b41-4f72-aecf-6a2172c7a055",
        "colab": {
          "base_uri": "https://localhost:8080/"
        }
      },
      "outputs": [
        {
          "output_type": "stream",
          "name": "stdout",
          "text": [
            "Downloading data from https://storage.googleapis.com/download.tensorflow.org/data/shakespeare.txt\n",
            "1115394/1115394 [==============================] - 1s 1us/step\n"
          ]
        }
      ],
      "source": [
        "#download txt data\n",
        "path_to_file = tf.keras.utils.get_file('shakespeare.txt', 'https://storage.googleapis.com/download.tensorflow.org/data/shakespeare.txt')"
      ]
    },
    {
      "cell_type": "code",
      "execution_count": 3,
      "metadata": {
        "colab": {
          "base_uri": "https://localhost:8080/"
        },
        "id": "Db-jMYhxK9Lm",
        "outputId": "63318d11-1a95-4cd2-8801-1d78f3115027"
      },
      "outputs": [
        {
          "output_type": "stream",
          "name": "stdout",
          "text": [
            "Length of text: 1115394 characters\n"
          ]
        }
      ],
      "source": [
        "# Read, then decode for py2 compat.\n",
        "text = open(path_to_file, 'rb').read().decode(encoding='utf-8')\n",
        "# length of text is the number of characters in it\n",
        "print ('Length of text: {} characters'.format(len(text)))"
      ]
    },
    {
      "cell_type": "markdown",
      "source": [
        "# Encoding & Decoding"
      ],
      "metadata": {
        "id": "BrFJ4kfOZSRl"
      }
    },
    {
      "cell_type": "code",
      "execution_count": 4,
      "metadata": {
        "id": "dJ5wske1LKf7"
      },
      "outputs": [],
      "source": [
        "vocab = sorted(set(text))\n",
        "# Creating a mapping from unique characters to indices\n",
        "char2idx = {u:i for i, u in enumerate(vocab)}\n",
        "idx2char = np.array(vocab)\n",
        "#encode characters with numbers\n",
        "def text_to_int(text):\n",
        "  return np.array([char2idx[c] for c in text])\n",
        "\n",
        "text_as_int = text_to_int(text)"
      ]
    },
    {
      "cell_type": "code",
      "execution_count": 5,
      "metadata": {
        "colab": {
          "base_uri": "https://localhost:8080/"
        },
        "id": "MWmDyiwPLSTx",
        "outputId": "43a3a394-ff13-4d71-a2c4-48b8f7ff728e"
      },
      "outputs": [
        {
          "output_type": "stream",
          "name": "stdout",
          "text": [
            "Text: First Citizen\n",
            "Encoded: [18 47 56 57 58  1 15 47 58 47 64 43 52]\n"
          ]
        }
      ],
      "source": [
        "# lets look at how part of our text is encoded\n",
        "print(\"Text:\", text[:13])\n",
        "print(\"Encoded:\", text_to_int(text[:13]))"
      ]
    },
    {
      "cell_type": "code",
      "execution_count": 6,
      "metadata": {
        "colab": {
          "base_uri": "https://localhost:8080/"
        },
        "id": "tDjWlmiPNmlo",
        "outputId": "38261005-1e48-44b9-a736-71cd635a2ec0"
      },
      "outputs": [
        {
          "output_type": "stream",
          "name": "stdout",
          "text": [
            "First Citizen\n"
          ]
        }
      ],
      "source": [
        "#decodes encoded numbers to text\n",
        "def int_to_text(ints):\n",
        "  try:\n",
        "    ints = ints.numpy()\n",
        "  except:\n",
        "    pass\n",
        "    #turn array of characters to a word\n",
        "  return ''.join(idx2char[ints])\n",
        "\n",
        "print(int_to_text(text_as_int[:13]))"
      ]
    },
    {
      "cell_type": "markdown",
      "source": [
        "# Training Example"
      ],
      "metadata": {
        "id": "OB1a2269ZZk4"
      }
    },
    {
      "cell_type": "code",
      "execution_count": 7,
      "metadata": {
        "id": "E822Y2mKOMm1"
      },
      "outputs": [],
      "source": [
        "seq_length = 100  # length of sequence for a training example\n",
        "#+1 is here since we have a sequence of 100 for both inputs and outputs and were dropping last letter of a word e.g Hell and output is dropping first letter and predicting last letterello \n",
        "#hence if input is 100 to make room for lastletter or character been added to end of ouput we add +1\n",
        "examples_per_epoch = len(text)//(seq_length+1)\n",
        "\n",
        "# Create training examples / targets\n",
        "#slices text into streams of characters in this case 1.1 million characters *check len(text)\n",
        "char_dataset = tf.data.Dataset.from_tensor_slices(text_as_int)"
      ]
    },
    {
      "cell_type": "code",
      "execution_count": 8,
      "metadata": {
        "colab": {
          "base_uri": "https://localhost:8080/"
        },
        "id": "gd7g0fURQWgd",
        "outputId": "585bef6e-8e41-44f0-e8a7-553d76eb935e"
      },
      "outputs": [
        {
          "output_type": "execute_result",
          "data": {
            "text/plain": [
              "<TensorSliceDataset element_spec=TensorSpec(shape=(), dtype=tf.int64, name=None)>"
            ]
          },
          "metadata": {},
          "execution_count": 8
        }
      ],
      "source": [
        "char_dataset\n"
      ]
    },
    {
      "cell_type": "code",
      "execution_count": 9,
      "metadata": {
        "id": "ABWSoIVZSJt7"
      },
      "outputs": [],
      "source": [
        "#splits characters into batches of 101 words and drop remaining\n",
        "sequences = char_dataset.batch(seq_length+1, drop_remainder=True)"
      ]
    },
    {
      "cell_type": "code",
      "execution_count": 10,
      "metadata": {
        "id": "hjF1dJydSVsJ"
      },
      "outputs": [],
      "source": [
        "def split_input_target(chunk):  # for the example: hello\n",
        "    input_text = chunk[:-1]  # hell\n",
        "    target_text = chunk[1:]  # ello\n",
        "    return input_text, target_text  # hell, ello\n",
        "#perform above fuction to delete last letter from input text and delete first letter from target_text\n",
        "dataset = sequences.map(split_input_target)  # we use map to apply the above function to every entry"
      ]
    },
    {
      "cell_type": "code",
      "execution_count": 11,
      "metadata": {
        "colab": {
          "base_uri": "https://localhost:8080/"
        },
        "id": "jaCby5v6SXVA",
        "outputId": "a1a4dae1-d3ac-4b28-9df8-a35720cd521e"
      },
      "outputs": [
        {
          "output_type": "stream",
          "name": "stdout",
          "text": [
            "\n",
            "\n",
            "EXAMPLE\n",
            "\n",
            "INPUT\n",
            "First Citizen:\n",
            "Before we proceed any further, hear me speak.\n",
            "\n",
            "All:\n",
            "Speak, speak.\n",
            "\n",
            "First Citizen:\n",
            "You\n",
            "\n",
            "OUTPUT\n",
            "irst Citizen:\n",
            "Before we proceed any further, hear me speak.\n",
            "\n",
            "All:\n",
            "Speak, speak.\n",
            "\n",
            "First Citizen:\n",
            "You \n",
            "\n",
            "\n",
            "EXAMPLE\n",
            "\n",
            "INPUT\n",
            "are all resolved rather to die than to famish?\n",
            "\n",
            "All:\n",
            "Resolved. resolved.\n",
            "\n",
            "First Citizen:\n",
            "First, you \n",
            "\n",
            "OUTPUT\n",
            "re all resolved rather to die than to famish?\n",
            "\n",
            "All:\n",
            "Resolved. resolved.\n",
            "\n",
            "First Citizen:\n",
            "First, you k\n",
            "\n",
            "\n",
            "EXAMPLE\n",
            "\n",
            "INPUT\n",
            "now Caius Marcius is chief enemy to the people.\n",
            "\n",
            "All:\n",
            "We know't, we know't.\n",
            "\n",
            "First Citizen:\n",
            "Let us k\n",
            "\n",
            "OUTPUT\n",
            "ow Caius Marcius is chief enemy to the people.\n",
            "\n",
            "All:\n",
            "We know't, we know't.\n",
            "\n",
            "First Citizen:\n",
            "Let us ki\n"
          ]
        }
      ],
      "source": [
        "#each input set and outtput set is 100 from sequence we set earlier\n",
        "#were trying to see how what input sets and output sets look like for 3 sets\n",
        "for x, y in dataset.take(3):\n",
        "  print(\"\\n\\nEXAMPLE\\n\")\n",
        "  print(\"INPUT\")\n",
        "  print(int_to_text(x))\n",
        "  print(\"\\nOUTPUT\")\n",
        "  print(int_to_text(y))\n"
      ]
    },
    {
      "cell_type": "code",
      "execution_count": 12,
      "metadata": {
        "id": "xd7LJc7oTRPo"
      },
      "outputs": [],
      "source": [
        "BATCH_SIZE = 64\n",
        "VOCAB_SIZE = len(vocab)  # vocab is number of unique characters\n",
        "EMBEDDING_DIM = 256\n",
        "RNN_UNITS = 1024\n",
        "\n",
        "# Buffer size to shuffle the dataset\n",
        "# (TF data is designed to work with possibly infinite sequences,\n",
        "# so it doesn't attempt to shuffle the entire sequence in memory. Instead,\n",
        "# it maintains a buffer in which it shuffles elements).\n",
        "BUFFER_SIZE = 10000\n",
        "\n",
        "data = dataset.shuffle(BUFFER_SIZE).batch(BATCH_SIZE, drop_remainder=True)"
      ]
    },
    {
      "cell_type": "code",
      "source": [],
      "metadata": {
        "id": "10lwfiG0X2mY"
      },
      "execution_count": null,
      "outputs": []
    },
    {
      "cell_type": "markdown",
      "source": [
        "# Build model\n"
      ],
      "metadata": {
        "id": "TG6byI6KZwIs"
      }
    },
    {
      "cell_type": "code",
      "execution_count": 13,
      "metadata": {
        "colab": {
          "base_uri": "https://localhost:8080/"
        },
        "id": "R7OTub6XThu5",
        "outputId": "c7d0e9c2-c048-4710-fd22-89cb8ca3530c"
      },
      "outputs": [
        {
          "output_type": "stream",
          "name": "stdout",
          "text": [
            "Model: \"sequential\"\n",
            "_________________________________________________________________\n",
            " Layer (type)                Output Shape              Param #   \n",
            "=================================================================\n",
            " embedding (Embedding)       (64, None, 256)           16640     \n",
            "                                                                 \n",
            " lstm (LSTM)                 (64, None, 1024)          5246976   \n",
            "                                                                 \n",
            " dense (Dense)               (64, None, 65)            66625     \n",
            "                                                                 \n",
            "=================================================================\n",
            "Total params: 5,330,241\n",
            "Trainable params: 5,330,241\n",
            "Non-trainable params: 0\n",
            "_________________________________________________________________\n"
          ]
        }
      ],
      "source": [
        "#build model\n",
        "def build_model(vocab_size, embedding_dim, rnn_units, batch_size):\n",
        "  model = tf.keras.Sequential([\n",
        "    tf.keras.layers.Embedding(vocab_size, embedding_dim,\n",
        "                              batch_input_shape=[batch_size, None]),\n",
        "    tf.keras.layers.LSTM(rnn_units,\n",
        "                        return_sequences=True,\n",
        "                        stateful=True,\n",
        "                        recurrent_initializer='glorot_uniform'),\n",
        "    tf.keras.layers.Dense(vocab_size)\n",
        "  ])\n",
        "  return model\n",
        "\n",
        "model = build_model(VOCAB_SIZE,EMBEDDING_DIM, RNN_UNITS, BATCH_SIZE)\n",
        "model.summary()"
      ]
    },
    {
      "cell_type": "markdown",
      "source": [
        "# Testing prediction output  for specific input"
      ],
      "metadata": {
        "id": "Nr882thSaJyl"
      }
    },
    {
      "cell_type": "code",
      "execution_count": 14,
      "metadata": {
        "id": "kdU4aWIjTtlM",
        "colab": {
          "base_uri": "https://localhost:8080/"
        },
        "outputId": "9bddc459-4427-4ce3-a9a5-34719d4ffac1"
      },
      "outputs": [
        {
          "output_type": "stream",
          "name": "stdout",
          "text": [
            "(64, 100, 65) # (batch_size, sequence_length, vocab_size)\n"
          ]
        }
      ],
      "source": [
        "for input_example_batch, target_example_batch in data.take(1):\n",
        "  example_batch_predictions = model(input_example_batch)  # ask our model for a prediction on our first batch of training data (64 entries)\n",
        "  print(example_batch_predictions.shape, \"# (batch_size, sequence_length, vocab_size)\")  # print out the output shape"
      ]
    },
    {
      "cell_type": "code",
      "execution_count": 15,
      "metadata": {
        "colab": {
          "base_uri": "https://localhost:8080/"
        },
        "id": "c8fosf3m7qFt",
        "outputId": "7196cf91-a1ae-46dd-dd66-3bc46a3a5465"
      },
      "outputs": [
        {
          "output_type": "stream",
          "name": "stdout",
          "text": [
            "64\n",
            "tf.Tensor(\n",
            "[[[-3.0920575e-03  1.2102443e-02 -2.6563727e-03 ...  3.4347866e-03\n",
            "   -9.7456132e-04 -6.3701565e-03]\n",
            "  [-4.5727724e-03  7.3613888e-03 -1.8997809e-03 ...  4.5943367e-03\n",
            "    1.5493080e-03 -9.0386309e-03]\n",
            "  [-5.6862948e-03  3.6427018e-03  2.1540108e-03 ... -6.6525768e-05\n",
            "    3.1451089e-03 -7.0712767e-03]\n",
            "  ...\n",
            "  [ 1.6123627e-03  4.0005571e-03  7.9589235e-03 ...  2.3035419e-03\n",
            "    6.9166226e-03  5.3818244e-04]\n",
            "  [ 5.0101848e-03  7.7961758e-03  3.7273304e-03 ...  3.7068157e-03\n",
            "    4.4503883e-03 -6.7872973e-04]\n",
            "  [-2.0802887e-03  3.0087514e-03  1.1814416e-02 ...  6.4551425e-03\n",
            "    3.1826806e-03 -4.3002400e-03]]\n",
            "\n",
            " [[-9.4900047e-04 -1.1094077e-03  4.1145869e-03 ... -2.8354456e-03\n",
            "    1.0599319e-03 -7.8610977e-04]\n",
            "  [ 2.1434433e-03 -1.4452636e-04  7.8681512e-03 ... -2.5834623e-03\n",
            "    2.6574922e-03 -1.5061384e-03]\n",
            "  [-1.8885038e-03  3.2339520e-03 -2.8425944e-04 ... -1.2872000e-03\n",
            "    3.2528013e-04  8.1317499e-05]\n",
            "  ...\n",
            "  [ 2.7717971e-03  6.0483776e-03 -6.9269873e-03 ... -4.9720835e-03\n",
            "   -2.3573446e-03  4.8302338e-03]\n",
            "  [ 3.3565918e-03  8.0807880e-03 -7.2710211e-03 ... -1.4090566e-02\n",
            "   -5.0595007e-04  1.8408193e-03]\n",
            "  [-4.9309805e-05  5.8810264e-03 -5.8989651e-03 ... -1.2282487e-02\n",
            "   -2.5350600e-03 -6.9177011e-04]]\n",
            "\n",
            " [[-9.4900047e-04 -1.1094077e-03  4.1145869e-03 ... -2.8354456e-03\n",
            "    1.0599319e-03 -7.8610977e-04]\n",
            "  [-1.8351498e-03 -2.4042849e-03  6.4425133e-03 ... -4.4273483e-03\n",
            "    4.6219765e-03 -1.8567361e-03]\n",
            "  [-2.5168993e-03 -3.2629592e-03  5.9178774e-04 ... -9.8309498e-03\n",
            "    5.7136626e-03 -6.6385157e-03]\n",
            "  ...\n",
            "  [-6.4308350e-03  3.3673532e-03  1.0954803e-02 ... -8.5580871e-03\n",
            "    6.8698740e-03 -6.6902619e-03]\n",
            "  [-6.7506782e-03  4.6927207e-03  1.1684067e-02 ... -1.0160325e-02\n",
            "    6.6165477e-03 -4.9776160e-03]\n",
            "  [-9.0550147e-03  1.0556955e-02  1.8734334e-03 ... -1.1617853e-02\n",
            "    3.0513946e-03 -1.5220214e-03]]\n",
            "\n",
            " ...\n",
            "\n",
            " [[ 7.1546395e-04 -2.1257051e-03 -5.6076457e-04 ... -1.3804147e-03\n",
            "   -1.7626254e-03  1.0484343e-03]\n",
            "  [ 1.4337932e-04 -1.1086795e-04  6.6879904e-03 ...  9.5989369e-04\n",
            "    2.2003693e-03 -9.3523844e-04]\n",
            "  [-1.8989861e-03 -1.3992509e-03  5.7356022e-03 ...  3.0564757e-03\n",
            "    4.6010334e-03 -5.5652289e-03]\n",
            "  ...\n",
            "  [ 2.4174019e-03  4.5891404e-03  6.8432069e-03 ... -7.0402869e-03\n",
            "    3.0383086e-03 -3.6224124e-03]\n",
            "  [-1.1767361e-03  7.7968980e-03 -1.0859475e-03 ... -4.3554567e-03\n",
            "    5.3857244e-04 -6.1429408e-04]\n",
            "  [-1.4210835e-03  1.2194317e-02 -2.0571623e-03 ... -1.3167332e-03\n",
            "   -6.2042931e-03 -1.9254030e-03]]\n",
            "\n",
            " [[ 1.9868661e-03  4.3279061e-04  5.8296840e-03 ... -6.1094179e-04\n",
            "    2.4781371e-03 -5.0419447e-04]\n",
            "  [ 7.3002693e-03 -4.6901149e-03  6.3418327e-03 ... -9.4291463e-04\n",
            "    9.7064313e-04  4.5606666e-04]\n",
            "  [ 4.2430656e-03 -2.8129956e-03  9.1404431e-03 ... -3.3203934e-03\n",
            "    8.4151549e-04 -8.8049890e-04]\n",
            "  ...\n",
            "  [-7.6412866e-03  2.2539566e-03  4.5690811e-03 ... -9.0447739e-03\n",
            "    1.1562556e-02 -4.4966149e-03]\n",
            "  [ 7.1057910e-04 -3.4789629e-03  2.8429125e-03 ... -8.2335053e-03\n",
            "    8.5853254e-03 -2.6085754e-03]\n",
            "  [-1.7256006e-03 -3.6957841e-03 -2.4102719e-03 ... -1.3226418e-02\n",
            "    8.5788257e-03 -7.0878929e-03]]\n",
            "\n",
            " [[-1.0139521e-03 -3.6637690e-03  9.8118139e-04 ... -4.9627118e-04\n",
            "    8.7557035e-04 -3.4792339e-03]\n",
            "  [ 3.5969228e-03 -7.1853853e-04 -2.8194138e-03 ...  1.1547498e-03\n",
            "   -1.5825080e-03 -3.6991504e-03]\n",
            "  [-2.6064441e-03 -5.3639347e-03  5.6094071e-03 ...  4.3420251e-03\n",
            "   -2.4298057e-03 -6.5323804e-03]\n",
            "  ...\n",
            "  [-1.4284472e-03 -2.0681364e-03 -2.3385440e-04 ... -7.7203480e-03\n",
            "    5.0544455e-03 -2.2128308e-03]\n",
            "  [-1.1434304e-03 -2.9792872e-03 -1.6276970e-03 ... -7.1603376e-03\n",
            "    3.5718866e-03 -4.5583267e-03]\n",
            "  [-2.2355230e-03 -3.6656808e-03 -6.5843798e-03 ... -1.3062714e-02\n",
            "    3.3308179e-03 -8.0359541e-03]]], shape=(64, 100, 65), dtype=float32)\n"
          ]
        }
      ],
      "source": [
        "# we can see that the predicition is an array of 64 arrays, one for each entry in the batch\n",
        "print(len(example_batch_predictions))\n",
        "print(example_batch_predictions)"
      ]
    },
    {
      "cell_type": "code",
      "execution_count": 16,
      "metadata": {
        "colab": {
          "base_uri": "https://localhost:8080/"
        },
        "id": "QkXFjvFDhLP6",
        "outputId": "81443f91-be0c-4437-9fa9-5151ec8721bb"
      },
      "outputs": [
        {
          "output_type": "stream",
          "name": "stdout",
          "text": [
            "100\n",
            "tf.Tensor(\n",
            "[[-3.0920575e-03  1.2102443e-02 -2.6563727e-03 ...  3.4347866e-03\n",
            "  -9.7456132e-04 -6.3701565e-03]\n",
            " [-4.5727724e-03  7.3613888e-03 -1.8997809e-03 ...  4.5943367e-03\n",
            "   1.5493080e-03 -9.0386309e-03]\n",
            " [-5.6862948e-03  3.6427018e-03  2.1540108e-03 ... -6.6525768e-05\n",
            "   3.1451089e-03 -7.0712767e-03]\n",
            " ...\n",
            " [ 1.6123627e-03  4.0005571e-03  7.9589235e-03 ...  2.3035419e-03\n",
            "   6.9166226e-03  5.3818244e-04]\n",
            " [ 5.0101848e-03  7.7961758e-03  3.7273304e-03 ...  3.7068157e-03\n",
            "   4.4503883e-03 -6.7872973e-04]\n",
            " [-2.0802887e-03  3.0087514e-03  1.1814416e-02 ...  6.4551425e-03\n",
            "   3.1826806e-03 -4.3002400e-03]], shape=(100, 65), dtype=float32)\n"
          ]
        }
      ],
      "source": [
        "#examining one prediction\n",
        "pred = example_batch_predictions[0]\n",
        "print(len(pred))\n",
        "print(pred)\n",
        "# notice this is a 2d array of length 100, where each interior array is the prediction for the next character at each time step"
      ]
    },
    {
      "cell_type": "code",
      "execution_count": 17,
      "metadata": {
        "colab": {
          "base_uri": "https://localhost:8080/"
        },
        "id": "8LqHQFJMhOxb",
        "outputId": "c212cd29-3654-48b2-b6da-4432010241b2"
      },
      "outputs": [
        {
          "output_type": "stream",
          "name": "stdout",
          "text": [
            "65\n",
            "tf.Tensor(\n",
            "[-0.00309206  0.01210244 -0.00265637  0.00076803 -0.0039836   0.00240342\n",
            " -0.00127622 -0.00212301  0.00544059  0.00187594  0.00320759 -0.00542243\n",
            " -0.00062895  0.00292641  0.0019988  -0.00297241  0.00030146 -0.00538643\n",
            " -0.0009024  -0.00292946 -0.00177771  0.00312011  0.00166109  0.00145662\n",
            " -0.00195184  0.00271523 -0.00328902  0.00150295 -0.00095688 -0.00429017\n",
            "  0.00155977  0.00624573 -0.00169129  0.00402553 -0.00295986  0.00476503\n",
            "  0.00026091 -0.00090517 -0.00314567  0.00188257 -0.00071687 -0.00453363\n",
            "  0.00156584  0.00292326 -0.00232929  0.00214368 -0.00594971  0.00327873\n",
            "  0.00167878 -0.00039407 -0.00348324  0.00686434  0.00434144 -0.00251781\n",
            "  0.00382506 -0.0024545  -0.00737088  0.00060163  0.00396298 -0.00034462\n",
            "  0.00218714  0.00127676  0.00343479 -0.00097456 -0.00637016], shape=(65,), dtype=float32)\n"
          ]
        }
      ],
      "source": [
        "# and finally well look at a prediction at the first timestep\n",
        "time_pred = pred[0]\n",
        "print(len(time_pred))\n",
        "print(time_pred)\n",
        "# and of course its 65 values representing the probabillity of each character occuring next"
      ]
    },
    {
      "cell_type": "markdown",
      "source": [
        "the output has a shape of (64,100,65)\n",
        "meaning 64 batches, 100 output characters,65 predictions of what the output text is supposed to be they are then sampled and one of the 65 is chosen as each character of the 100 output characters."
      ],
      "metadata": {
        "id": "Jhf7ssoGatOS"
      }
    },
    {
      "cell_type": "code",
      "execution_count": 18,
      "metadata": {
        "id": "7pNcb-sn13Or",
        "colab": {
          "base_uri": "https://localhost:8080/",
          "height": 35
        },
        "outputId": "7c6eed5e-3583-4703-9d0a-e5acd24fd42f"
      },
      "outputs": [
        {
          "output_type": "execute_result",
          "data": {
            "text/plain": [
              "'LdvTbI jZnob-:xSFXJ.foAqxWw cYkB hs,xQYqu33SfCZAuLF.gsiZRekrvg&3avIlnOwbk?sHd-xYQx:OlCsJ!RHQB?YEsCyV'"
            ],
            "application/vnd.google.colaboratory.intrinsic+json": {
              "type": "string"
            }
          },
          "metadata": {},
          "execution_count": 18
        }
      ],
      "source": [
        "# If we want to determine the predicted character we need to sample the output distribution (pick a value based on probabillity)\n",
        "sampled_indices = tf.random.categorical(pred, num_samples=1)\n",
        "\n",
        "# now we can reshape that array and convert all the integers to numbers to see the actual characters\n",
        "sampled_indices = np.reshape(sampled_indices, (1, -1))[0]\n",
        "predicted_chars = int_to_text(sampled_indices)\n",
        "\n",
        "predicted_chars  # and this is what the model predicted for training sequence 1"
      ]
    },
    {
      "cell_type": "markdown",
      "source": [
        "# Create Loss function"
      ],
      "metadata": {
        "id": "OQEgT4kSbkXs"
      }
    },
    {
      "cell_type": "code",
      "source": [
        "def loss(labels, logits):\n",
        "  return tf.keras.losses.sparse_categorical_crossentropy(labels, logits, from_logits=True)"
      ],
      "metadata": {
        "id": "soUFmE1Hap-T"
      },
      "execution_count": 19,
      "outputs": []
    },
    {
      "cell_type": "markdown",
      "source": [
        "# Compile model\n",
        "At this point we can think of our problem as a classification problem where the model predicts the probabillity of each unique letter coming next."
      ],
      "metadata": {
        "id": "tfgUIIwwdItf"
      }
    },
    {
      "cell_type": "code",
      "source": [
        "model.compile(optimizer='adam', loss=loss)"
      ],
      "metadata": {
        "id": "5zYPU206dFRH"
      },
      "execution_count": 20,
      "outputs": []
    },
    {
      "cell_type": "markdown",
      "source": [
        "# Creating Checkpoints\n",
        "Now we are going to setup and configure our model to save checkpoinst as it trains. This will allow us to load our model from a checkpoint and continue training it.\n",
        "\n"
      ],
      "metadata": {
        "id": "ybB-kkgvdlHe"
      }
    },
    {
      "cell_type": "code",
      "source": [
        "# Directory where the checkpoints will be saved\n",
        "checkpoint_dir = './training_checkpoints'\n",
        "# Name of the checkpoint files\n",
        "checkpoint_prefix = os.path.join(checkpoint_dir, \"ckpt_{epoch}\")\n",
        "\n",
        "checkpoint_callback=tf.keras.callbacks.ModelCheckpoint(\n",
        "    filepath=checkpoint_prefix,\n",
        "    save_weights_only=True)"
      ],
      "metadata": {
        "id": "lj4gWQ2fdGlC"
      },
      "execution_count": 21,
      "outputs": []
    },
    {
      "cell_type": "markdown",
      "source": [
        "# Training model"
      ],
      "metadata": {
        "id": "oLi59dHWdysB"
      }
    },
    {
      "cell_type": "code",
      "metadata": {
        "colab": {
          "base_uri": "https://localhost:8080/"
        },
        "id": "a1HWt4CRdv-u",
        "outputId": "2ad6d898-7ca0-4f27-aba5-3d94ed2a22b1"
      },
      "source": [
        "history = model.fit(data, epochs=10, callbacks=[checkpoint_callback])"
      ],
      "execution_count": 22,
      "outputs": [
        {
          "output_type": "stream",
          "name": "stdout",
          "text": [
            "Epoch 1/10\n",
            "172/172 [==============================] - 15s 72ms/step - loss: 2.5316\n",
            "Epoch 2/10\n",
            "172/172 [==============================] - 14s 75ms/step - loss: 1.8655\n",
            "Epoch 3/10\n",
            "172/172 [==============================] - 13s 69ms/step - loss: 1.6246\n",
            "Epoch 4/10\n",
            "172/172 [==============================] - 13s 68ms/step - loss: 1.4947\n",
            "Epoch 5/10\n",
            "172/172 [==============================] - 13s 71ms/step - loss: 1.4152\n",
            "Epoch 6/10\n",
            "172/172 [==============================] - 14s 73ms/step - loss: 1.3593\n",
            "Epoch 7/10\n",
            "172/172 [==============================] - 14s 72ms/step - loss: 1.3139\n",
            "Epoch 8/10\n",
            "172/172 [==============================] - 13s 69ms/step - loss: 1.2745\n",
            "Epoch 9/10\n",
            "172/172 [==============================] - 13s 69ms/step - loss: 1.2382\n",
            "Epoch 10/10\n",
            "172/172 [==============================] - 13s 70ms/step - loss: 1.2019\n"
          ]
        }
      ]
    },
    {
      "cell_type": "markdown",
      "source": [
        "# Loading the Model\n",
        "We'll rebuild the model from a checkpoint using a batch_size of 1 so that we can feed one peice of text to the model and have it make a prediction."
      ],
      "metadata": {
        "id": "m3GiYxE5d9EJ"
      }
    },
    {
      "cell_type": "code",
      "metadata": {
        "id": "R4PAgrwMjZ4_"
      },
      "source": [
        "model = build_model(VOCAB_SIZE, EMBEDDING_DIM, RNN_UNITS, batch_size=1)"
      ],
      "execution_count": 24,
      "outputs": []
    },
    {
      "cell_type": "markdown",
      "source": [
        "Once the model is finished training, we can find the lastest checkpoint that stores the models weights using the following line."
      ],
      "metadata": {
        "id": "tO51WHK5eJCG"
      }
    },
    {
      "cell_type": "code",
      "metadata": {
        "id": "y31daRzAduto"
      },
      "source": [
        "model.load_weights(tf.train.latest_checkpoint(checkpoint_dir))\n",
        "model.build(tf.TensorShape([1, None]))"
      ],
      "execution_count": 25,
      "outputs": []
    },
    {
      "cell_type": "markdown",
      "source": [
        "We can load any checkpoint we want by specifying the exact file to load."
      ],
      "metadata": {
        "id": "RN2_yX7oeaaT"
      }
    },
    {
      "cell_type": "code",
      "metadata": {
        "colab": {
          "base_uri": "https://localhost:8080/",
          "height": 329
        },
        "id": "FNgIDBDQdu6b",
        "outputId": "82c1ac5a-d33e-4d3e-df3e-a13851022fb7"
      },
      "source": [
        "checkpoint_num = 10\n",
        "model.load_weights(tf.train.load_checkpoint(\"./training_checkpoints/ckpt_\" + str(checkpoint_num)))\n",
        "model.build(tf.TensorShape([1, None]))"
      ],
      "execution_count": 26,
      "outputs": [
        {
          "output_type": "error",
          "ename": "AttributeError",
          "evalue": "ignored",
          "traceback": [
            "\u001b[0;31m---------------------------------------------------------------------------\u001b[0m",
            "\u001b[0;31mAttributeError\u001b[0m                            Traceback (most recent call last)",
            "\u001b[0;32m<ipython-input-26-97614ead033d>\u001b[0m in \u001b[0;36m<module>\u001b[0;34m\u001b[0m\n\u001b[1;32m      1\u001b[0m \u001b[0mcheckpoint_num\u001b[0m \u001b[0;34m=\u001b[0m \u001b[0;36m10\u001b[0m\u001b[0;34m\u001b[0m\u001b[0;34m\u001b[0m\u001b[0m\n\u001b[0;32m----> 2\u001b[0;31m \u001b[0mmodel\u001b[0m\u001b[0;34m.\u001b[0m\u001b[0mload_weights\u001b[0m\u001b[0;34m(\u001b[0m\u001b[0mtf\u001b[0m\u001b[0;34m.\u001b[0m\u001b[0mtrain\u001b[0m\u001b[0;34m.\u001b[0m\u001b[0mload_checkpoint\u001b[0m\u001b[0;34m(\u001b[0m\u001b[0;34m\"./training_checkpoints/ckpt_\"\u001b[0m \u001b[0;34m+\u001b[0m \u001b[0mstr\u001b[0m\u001b[0;34m(\u001b[0m\u001b[0mcheckpoint_num\u001b[0m\u001b[0;34m)\u001b[0m\u001b[0;34m)\u001b[0m\u001b[0;34m)\u001b[0m\u001b[0;34m\u001b[0m\u001b[0;34m\u001b[0m\u001b[0m\n\u001b[0m\u001b[1;32m      3\u001b[0m \u001b[0mmodel\u001b[0m\u001b[0;34m.\u001b[0m\u001b[0mbuild\u001b[0m\u001b[0;34m(\u001b[0m\u001b[0mtf\u001b[0m\u001b[0;34m.\u001b[0m\u001b[0mTensorShape\u001b[0m\u001b[0;34m(\u001b[0m\u001b[0;34m[\u001b[0m\u001b[0;36m1\u001b[0m\u001b[0;34m,\u001b[0m \u001b[0;32mNone\u001b[0m\u001b[0;34m]\u001b[0m\u001b[0;34m)\u001b[0m\u001b[0;34m)\u001b[0m\u001b[0;34m\u001b[0m\u001b[0;34m\u001b[0m\u001b[0m\n",
            "\u001b[0;32m/usr/local/lib/python3.7/dist-packages/keras/utils/traceback_utils.py\u001b[0m in \u001b[0;36merror_handler\u001b[0;34m(*args, **kwargs)\u001b[0m\n\u001b[1;32m     65\u001b[0m     \u001b[0;32mexcept\u001b[0m \u001b[0mException\u001b[0m \u001b[0;32mas\u001b[0m \u001b[0me\u001b[0m\u001b[0;34m:\u001b[0m  \u001b[0;31m# pylint: disable=broad-except\u001b[0m\u001b[0;34m\u001b[0m\u001b[0;34m\u001b[0m\u001b[0m\n\u001b[1;32m     66\u001b[0m       \u001b[0mfiltered_tb\u001b[0m \u001b[0;34m=\u001b[0m \u001b[0m_process_traceback_frames\u001b[0m\u001b[0;34m(\u001b[0m\u001b[0me\u001b[0m\u001b[0;34m.\u001b[0m\u001b[0m__traceback__\u001b[0m\u001b[0;34m)\u001b[0m\u001b[0;34m\u001b[0m\u001b[0;34m\u001b[0m\u001b[0m\n\u001b[0;32m---> 67\u001b[0;31m       \u001b[0;32mraise\u001b[0m \u001b[0me\u001b[0m\u001b[0;34m.\u001b[0m\u001b[0mwith_traceback\u001b[0m\u001b[0;34m(\u001b[0m\u001b[0mfiltered_tb\u001b[0m\u001b[0;34m)\u001b[0m \u001b[0;32mfrom\u001b[0m \u001b[0;32mNone\u001b[0m\u001b[0;34m\u001b[0m\u001b[0;34m\u001b[0m\u001b[0m\n\u001b[0m\u001b[1;32m     68\u001b[0m     \u001b[0;32mfinally\u001b[0m\u001b[0;34m:\u001b[0m\u001b[0;34m\u001b[0m\u001b[0;34m\u001b[0m\u001b[0m\n\u001b[1;32m     69\u001b[0m       \u001b[0;32mdel\u001b[0m \u001b[0mfiltered_tb\u001b[0m\u001b[0;34m\u001b[0m\u001b[0;34m\u001b[0m\u001b[0m\n",
            "\u001b[0;32m/usr/local/lib/python3.7/dist-packages/keras/saving/saving_utils.py\u001b[0m in \u001b[0;36mis_hdf5_filepath\u001b[0;34m(filepath)\u001b[0m\n\u001b[1;32m    333\u001b[0m \u001b[0;34m\u001b[0m\u001b[0m\n\u001b[1;32m    334\u001b[0m \u001b[0;32mdef\u001b[0m \u001b[0mis_hdf5_filepath\u001b[0m\u001b[0;34m(\u001b[0m\u001b[0mfilepath\u001b[0m\u001b[0;34m)\u001b[0m\u001b[0;34m:\u001b[0m\u001b[0;34m\u001b[0m\u001b[0;34m\u001b[0m\u001b[0m\n\u001b[0;32m--> 335\u001b[0;31m   return (filepath.endswith('.h5') or filepath.endswith('.keras') or\n\u001b[0m\u001b[1;32m    336\u001b[0m           filepath.endswith('.hdf5'))\n",
            "\u001b[0;31mAttributeError\u001b[0m: 'tensorflow.python.util._pywrap_checkpoint_reader.C' object has no attribute 'endswith'"
          ]
        }
      ]
    },
    {
      "cell_type": "markdown",
      "source": [
        "\n",
        "# Generating Text\n",
        "Now we can use the lovely function provided by tensorflow to generate some text using any starting string we'd like."
      ],
      "metadata": {
        "id": "uTs8qWX0eiqo"
      }
    },
    {
      "cell_type": "code",
      "metadata": {
        "id": "ZMQmB7f9du_Q"
      },
      "source": [
        "def generate_text(model, start_string):\n",
        "  # Evaluation step (generating text using the learned model)\n",
        "\n",
        "  # Number of characters to generate\n",
        "  num_generate = 800\n",
        "\n",
        "  # Converting our start string to numbers (vectorizing)\n",
        "  input_eval = [char2idx[s] for s in start_string]\n",
        "  input_eval = tf.expand_dims(input_eval, 0)\n",
        "\n",
        "  # Empty string to store our results\n",
        "  text_generated = []\n",
        "\n",
        "  # Low temperatures results in more predictable text.\n",
        "  # Higher temperatures results in more surprising text.\n",
        "  # Experiment to find the best setting.\n",
        "  temperature = 1.0\n",
        "\n",
        "  # Here batch size == 1\n",
        "  model.reset_states()\n",
        "  for i in range(num_generate):\n",
        "      predictions = model(input_eval)\n",
        "      # remove the batch dimension\n",
        "    \n",
        "      predictions = tf.squeeze(predictions, 0)\n",
        "\n",
        "      # using a categorical distribution to predict the character returned by the model\n",
        "      predictions = predictions / temperature\n",
        "      predicted_id = tf.random.categorical(predictions, num_samples=1)[-1,0].numpy()\n",
        "\n",
        "      # We pass the predicted character as the next input to the model\n",
        "      # along with the previous hidden state\n",
        "      input_eval = tf.expand_dims([predicted_id], 0)\n",
        "\n",
        "      text_generated.append(idx2char[predicted_id])\n",
        "\n",
        "  return (start_string + ''.join(text_generated))"
      ],
      "execution_count": 27,
      "outputs": []
    },
    {
      "cell_type": "code",
      "metadata": {
        "colab": {
          "base_uri": "https://localhost:8080/"
        },
        "id": "cYAMNYLedvCS",
        "outputId": "35c326af-cf71-4f25-d906-bc7e8e416e7e"
      },
      "source": [
        "inp = input(\"Type a starting string: \")\n",
        "print(generate_text(model, inp))"
      ],
      "execution_count": null,
      "outputs": [
        {
          "output_type": "stream",
          "name": "stdout",
          "text": [
            "Type a starting string: love is war\n",
            "love is wary of shine terrors.\n",
            "\n",
            "WARWICK:\n",
            "O hou! Valt, one work, parting in\n",
            "the subdues of your name, I beseech you.\n",
            "Come, Camillo, an what little sort to Bohemia,\n",
            "Since I am limit to my father was mine own\n",
            "A thousand duch, which thou threat'st our country pray.\n",
            "There's some showers, love, with hand and how much\n",
            "her luck war, in the hollow grow of a man.\n",
            "\n",
            "BIONUED:\n",
            "There's no more said when that's made fair rash. This is an irother's gald,\n",
            "That instige thy thousand King of Henry, revenge,\n",
            "Too dear account the men, she is lefthe way.\n",
            "I'll know the mins have gatest.\n",
            "\n",
            "ARIEL:\n",
            "My lord!\n",
            "\n",
            "KING HENRY VI:\n",
            "And let us hear her speak a'l goodly to him,\n",
            "And rest to prison, of the queen and his blisson. I dare not offence\n",
            "That woe requite awhile,\n",
            "It shall be soleth time have lent her schill;\n",
            "Let's marry her old abov\n"
          ]
        }
      ]
    }
  ],
  "metadata": {
    "accelerator": "GPU",
    "colab": {
      "name": "RNN PLAY GENERATOR.ipynb",
      "provenance": [],
      "collapsed_sections": [
        "BrFJ4kfOZSRl",
        "OB1a2269ZZk4"
      ],
      "include_colab_link": true
    },
    "gpuClass": "standard",
    "kernelspec": {
      "display_name": "Python 3",
      "name": "python3"
    },
    "language_info": {
      "name": "python"
    }
  },
  "nbformat": 4,
  "nbformat_minor": 0
}